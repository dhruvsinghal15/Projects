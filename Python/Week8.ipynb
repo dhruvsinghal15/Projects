{
 "cells": [
  {
   "cell_type": "code",
   "execution_count": 45,
   "id": "3388e473",
   "metadata": {},
   "outputs": [
    {
     "name": "stdout",
     "output_type": "stream",
     "text": [
      "<class 'pandas.core.frame.DataFrame'>\n",
      "RangeIndex: 306 entries, 0 to 305\n",
      "Data columns (total 4 columns):\n",
      " #   Column  Non-Null Count  Dtype\n",
      "---  ------  --------------  -----\n",
      " 0   Class   306 non-null    int64\n",
      " 1   F1      306 non-null    int64\n",
      " 2   F2      306 non-null    int64\n",
      " 3   F3      306 non-null    int64\n",
      "dtypes: int64(4)\n",
      "memory usage: 9.7 KB\n"
     ]
    }
   ],
   "source": [
    "import pandas as pd\n",
    "import numpy as np\n",
    "import statsmodels.api as sm\n",
    "import seaborn as sn\n",
    "from sklearn.model_selection import train_test_split\n",
    "import matplotlib.pyplot as plt\n",
    "df = pd.read_csv('Haberman.csv')\n",
    "df.info()\n",
    "df.Class = df.Class.apply(lambda x : x-1)\n"
   ]
  },
  {
   "cell_type": "code",
   "execution_count": 46,
   "id": "8085483a",
   "metadata": {
    "scrolled": true
   },
   "outputs": [
    {
     "name": "stdout",
     "output_type": "stream",
     "text": [
      "Optimization terminated successfully.\n",
      "         Current function value: 0.514452\n",
      "         Iterations 6\n"
     ]
    },
    {
     "data": {
      "text/html": [
       "<table class=\"simpletable\">\n",
       "<caption>Logit Regression Results</caption>\n",
       "<tr>\n",
       "  <th>Dep. Variable:</th>         <td>Class</td>      <th>  No. Observations:  </th>  <td>   244</td>  \n",
       "</tr>\n",
       "<tr>\n",
       "  <th>Model:</th>                 <td>Logit</td>      <th>  Df Residuals:      </th>  <td>   240</td>  \n",
       "</tr>\n",
       "<tr>\n",
       "  <th>Method:</th>                 <td>MLE</td>       <th>  Df Model:          </th>  <td>     3</td>  \n",
       "</tr>\n",
       "<tr>\n",
       "  <th>Date:</th>            <td>Wed, 27 Sep 2023</td> <th>  Pseudo R-squ.:     </th>  <td>0.09929</td> \n",
       "</tr>\n",
       "<tr>\n",
       "  <th>Time:</th>                <td>12:16:32</td>     <th>  Log-Likelihood:    </th> <td> -125.53</td> \n",
       "</tr>\n",
       "<tr>\n",
       "  <th>converged:</th>             <td>True</td>       <th>  LL-Null:           </th> <td> -139.36</td> \n",
       "</tr>\n",
       "<tr>\n",
       "  <th>Covariance Type:</th>     <td>nonrobust</td>    <th>  LLR p-value:       </th> <td>4.250e-06</td>\n",
       "</tr>\n",
       "</table>\n",
       "<table class=\"simpletable\">\n",
       "<tr>\n",
       "    <td></td>       <th>coef</th>     <th>std err</th>      <th>z</th>      <th>P>|z|</th>  <th>[0.025</th>    <th>0.975]</th>  \n",
       "</tr>\n",
       "<tr>\n",
       "  <th>const</th> <td>   -0.7416</td> <td>    3.075</td> <td>   -0.241</td> <td> 0.809</td> <td>   -6.769</td> <td>    5.286</td>\n",
       "</tr>\n",
       "<tr>\n",
       "  <th>F1</th>    <td>    0.0332</td> <td>    0.015</td> <td>    2.224</td> <td> 0.026</td> <td>    0.004</td> <td>    0.062</td>\n",
       "</tr>\n",
       "<tr>\n",
       "  <th>F2</th>    <td>   -0.0406</td> <td>    0.049</td> <td>   -0.834</td> <td> 0.404</td> <td>   -0.136</td> <td>    0.055</td>\n",
       "</tr>\n",
       "<tr>\n",
       "  <th>F3</th>    <td>    0.1028</td> <td>    0.024</td> <td>    4.251</td> <td> 0.000</td> <td>    0.055</td> <td>    0.150</td>\n",
       "</tr>\n",
       "</table>"
      ],
      "text/plain": [
       "<class 'statsmodels.iolib.summary.Summary'>\n",
       "\"\"\"\n",
       "                           Logit Regression Results                           \n",
       "==============================================================================\n",
       "Dep. Variable:                  Class   No. Observations:                  244\n",
       "Model:                          Logit   Df Residuals:                      240\n",
       "Method:                           MLE   Df Model:                            3\n",
       "Date:                Wed, 27 Sep 2023   Pseudo R-squ.:                 0.09929\n",
       "Time:                        12:16:32   Log-Likelihood:                -125.53\n",
       "converged:                       True   LL-Null:                       -139.36\n",
       "Covariance Type:            nonrobust   LLR p-value:                 4.250e-06\n",
       "==============================================================================\n",
       "                 coef    std err          z      P>|z|      [0.025      0.975]\n",
       "------------------------------------------------------------------------------\n",
       "const         -0.7416      3.075     -0.241      0.809      -6.769       5.286\n",
       "F1             0.0332      0.015      2.224      0.026       0.004       0.062\n",
       "F2            -0.0406      0.049     -0.834      0.404      -0.136       0.055\n",
       "F3             0.1028      0.024      4.251      0.000       0.055       0.150\n",
       "==============================================================================\n",
       "\"\"\""
      ]
     },
     "execution_count": 46,
     "metadata": {},
     "output_type": "execute_result"
    }
   ],
   "source": [
    "# Q1. model for prediction\n",
    "X_features = df[['F1', 'F2', 'F3']]\n",
    "Y_features = df['Class']\n",
    "\n",
    "\n",
    "\n",
    "X = sm.add_constant(X)\n",
    "Y = Y_features\n",
    "\n",
    "train_X, test_X, train_Y, test_Y = train_test_split(X,Y,train_size=0.8, random_state=42) \n",
    "model_1 = sm.Logit(train_Y, train_X)\n",
    "model_1 = model_1.fit()\n",
    "model_1.summary()"
   ]
  },
  {
   "cell_type": "code",
   "execution_count": 48,
   "id": "3b0025e2",
   "metadata": {},
   "outputs": [
    {
     "name": "stdout",
     "output_type": "stream",
     "text": [
      "Optimization terminated successfully.\n",
      "         Current function value: 0.549399\n",
      "         Iterations 5\n"
     ]
    },
    {
     "data": {
      "text/html": [
       "<table class=\"simpletable\">\n",
       "<caption>Logit Regression Results</caption>\n",
       "<tr>\n",
       "  <th>Dep. Variable:</th>         <td>Class</td>      <th>  No. Observations:  </th>  <td>   244</td> \n",
       "</tr>\n",
       "<tr>\n",
       "  <th>Model:</th>                 <td>Logit</td>      <th>  Df Residuals:      </th>  <td>   242</td> \n",
       "</tr>\n",
       "<tr>\n",
       "  <th>Method:</th>                 <td>MLE</td>       <th>  Df Model:          </th>  <td>     1</td> \n",
       "</tr>\n",
       "<tr>\n",
       "  <th>Date:</th>            <td>Wed, 27 Sep 2023</td> <th>  Pseudo R-squ.:     </th>  <td>0.03810</td>\n",
       "</tr>\n",
       "<tr>\n",
       "  <th>Time:</th>                <td>12:16:50</td>     <th>  Log-Likelihood:    </th> <td> -134.05</td>\n",
       "</tr>\n",
       "<tr>\n",
       "  <th>converged:</th>             <td>True</td>       <th>  LL-Null:           </th> <td> -139.36</td>\n",
       "</tr>\n",
       "<tr>\n",
       "  <th>Covariance Type:</th>     <td>nonrobust</td>    <th>  LLR p-value:       </th> <td>0.001119</td>\n",
       "</tr>\n",
       "</table>\n",
       "<table class=\"simpletable\">\n",
       "<tr>\n",
       "   <td></td>     <th>coef</th>     <th>std err</th>      <th>z</th>      <th>P>|z|</th>  <th>[0.025</th>    <th>0.975]</th>  \n",
       "</tr>\n",
       "<tr>\n",
       "  <th>F1</th> <td>   -0.0255</td> <td>    0.003</td> <td>   -7.445</td> <td> 0.000</td> <td>   -0.032</td> <td>   -0.019</td>\n",
       "</tr>\n",
       "<tr>\n",
       "  <th>F3</th> <td>    0.0835</td> <td>    0.022</td> <td>    3.812</td> <td> 0.000</td> <td>    0.041</td> <td>    0.126</td>\n",
       "</tr>\n",
       "</table>"
      ],
      "text/plain": [
       "<class 'statsmodels.iolib.summary.Summary'>\n",
       "\"\"\"\n",
       "                           Logit Regression Results                           \n",
       "==============================================================================\n",
       "Dep. Variable:                  Class   No. Observations:                  244\n",
       "Model:                          Logit   Df Residuals:                      242\n",
       "Method:                           MLE   Df Model:                            1\n",
       "Date:                Wed, 27 Sep 2023   Pseudo R-squ.:                 0.03810\n",
       "Time:                        12:16:50   Log-Likelihood:                -134.05\n",
       "converged:                       True   LL-Null:                       -139.36\n",
       "Covariance Type:            nonrobust   LLR p-value:                  0.001119\n",
       "==============================================================================\n",
       "                 coef    std err          z      P>|z|      [0.025      0.975]\n",
       "------------------------------------------------------------------------------\n",
       "F1            -0.0255      0.003     -7.445      0.000      -0.032      -0.019\n",
       "F3             0.0835      0.022      3.812      0.000       0.041       0.126\n",
       "==============================================================================\n",
       "\"\"\""
      ]
     },
     "execution_count": 48,
     "metadata": {},
     "output_type": "execute_result"
    }
   ],
   "source": [
    "# Q.2 make the model using significant features only\n",
    "significant_features = model_1.pvalues[model_1.pvalues <0.05].index\n",
    "train_X = train_X[significant_features]\n",
    "test_X = test_X[significant_features]\n",
    "\n",
    "model_2 = sm.Logit(train_Y, train_X).fit()\n",
    "model_2.summary()"
   ]
  },
  {
   "cell_type": "code",
   "execution_count": 49,
   "id": "0192df9e",
   "metadata": {},
   "outputs": [
    {
     "name": "stdout",
     "output_type": "stream",
     "text": [
      "Features affecting positively are :  Index(['F3'], dtype='object')\n",
      "Features affecting negatively are :  Index(['F1'], dtype='object')\n"
     ]
    }
   ],
   "source": [
    "#3. Find which features affect the probability positively and negatively\n",
    "positive_features = model_2.params[model_2.params > 0].index\n",
    "negative_features = model_2.params[model_2.params < 0].index\n",
    "\n",
    "print(\"Features affecting positively are : \", positive_features)\n",
    "print(\"Features affecting negatively are : \", negative_features)"
   ]
  },
  {
   "cell_type": "code",
   "execution_count": 50,
   "id": "5706b34c",
   "metadata": {},
   "outputs": [
    {
     "name": "stdout",
     "output_type": "stream",
     "text": [
      "Youden index :  [0.0, 0.0, 0.0, 0.0, 0.022727272727272707, 0.03535353535353525, 0.08080808080808088, 0.1262626262626263, 0.06060606060606055, 0.10606060606060597, 0.1742424242424243, 0.19696969696969702, 0.13131313131313127, 0.17676767676767668, 0.18939393939393945, 0.23484848484848486, 0.22474747474747492, 0.23737373737373746, 0.26010101010101017, 0.21717171717171713, 0.20707070707070718, 0.2297979797979799, 0.2297979797979799, 0.2297979797979799, 0.2297979797979799, 0.14141414141414144, 0.16414141414141414, 0.18686868686868685, 0.13131313131313127, 0.07575757575757569, 0.07575757575757569, 0.07575757575757569, 0.07575757575757569, 0.07575757575757569, 0.07575757575757569, 0.07575757575757569, 0.07575757575757569, 0.07575757575757569, 0.02020202020202011, 0.02020202020202011, 0.04292929292929282, 0.04292929292929282, 0.04292929292929282, 0.04292929292929282, 0.04292929292929282, 0.04292929292929282, 0.08838383838383845, 0.08838383838383845, 0.08838383838383845, 0.08838383838383845, 0.08838383838383845, 0.08838383838383845, 0.08838383838383845, 0.03282828282828287, 0.03282828282828287, 0.03282828282828287, 0.03282828282828287, 0.03282828282828287, 0.03282828282828287, -0.022727272727272707, -0.022727272727272707, -0.022727272727272707, -0.022727272727272707, -0.022727272727272707, -0.022727272727272707, -0.022727272727272707, -0.022727272727272707, -0.022727272727272707, -0.022727272727272707, -0.022727272727272707, -0.022727272727272707, -0.022727272727272707, -0.022727272727272707, -0.022727272727272707, 0.0, 0.0, 0.0, 0.0, 0.0, 0.0, 0.0]\n",
      "\n",
      "\n",
      "optimal cutoff value is :  0.2799999999999999\n",
      "max youden value at optimal cutoff 0.26010101010101017\n"
     ]
    }
   ],
   "source": [
    "#Q4 Youden's index for all possible cut-off probabilites\n",
    "from sklearn import metrics\n",
    "cutoff = np.arange(0.1, 0.91, 0.01)\n",
    "youdens_index = []\n",
    "cutoff_index = []\n",
    "for i in cutoff:\n",
    "    predicted_values = model_2.predict(test_X)\n",
    "    predicted_values = (predicted_values > i).astype(int)\n",
    "    confusion_matrix = metrics.confusion_matrix(test_Y, predicted_values)\n",
    "    sensitivity = confusion_matrix[1][1]/(confusion_matrix[1][1] + confusion_matrix[1][0])\n",
    "    specificity = confusion_matrix[0][0]/(confusion_matrix[0][0] + confusion_matrix[0][1])\n",
    "    youden_index = sensitivity + specificity - 1\n",
    "    youdens_index.append(youden_index)\n",
    "    cutoff_index.append(i)\n",
    "\n",
    "print(\"Youden index : \", youdens_index)\n",
    "max_youden = -40\n",
    "optimal_cutoff = -1\n",
    "for i in range(0, len(youdens_index)):\n",
    "    if(youdens_index[i] > max_youden) :\n",
    "        max_youden = youdens_index[i]\n",
    "        optimal_cutoff = cutoff_index[i]\n",
    "\n",
    "print(\"\\n\\noptimal cutoff value is : \", optimal_cutoff)\n",
    "print(\"max youden value at optimal cutoff\", max_youden)"
   ]
  },
  {
   "cell_type": "code",
   "execution_count": 51,
   "id": "6bdff4b5",
   "metadata": {},
   "outputs": [
    {
     "data": {
      "image/png": "[encoded data removed]",
      "text/plain": [
       "<Figure size 640x480 with 2 Axes>"
      ]
     },
     "metadata": {},
     "output_type": "display_data"
    },
    {
     "name": "stdout",
     "output_type": "stream",
     "text": [
      "\n",
      "\n",
      "Precision of model is :  0.7948717948717948\n",
      "\n",
      "Recall of model is :  0.7045454545454546\n"
     ]
    }
   ],
   "source": [
    "predicted_values = model_2.predict(test_X)\n",
    "predicted_values = (predicted_values > optimal_cutoff).astype(int)\n",
    "confusion_matrix = metrics.confusion_matrix(test_Y, predicted_values)\n",
    "sn.heatmap(confusion_matrix, annot=True, fmt='.2f', xticklabels=[\"Selected\", \"Not Selected\"], yticklabels=[\"Selected\", \"Not Selected\"])\n",
    "plt.ylabel('True Label')\n",
    "plt.xlabel('Predicted Label')\n",
    "plt.show()\n",
    "\n",
    "precision = confusion_matrix[0][0]/(confusion_matrix[0][0] + confusion_matrix[1][0])\n",
    "recall = confusion_matrix[0][0]/(confusion_matrix[0][0] + confusion_matrix[0][1])\n",
    "\n",
    "print(\"\\n\\nPrecision of model is : \", precision)\n",
    "print(\"\\nRecall of model is : \", recall)"
   ]
  },
  {
   "cell_type": "code",
   "execution_count": 52,
   "id": "b2ac2ec6",
   "metadata": {},
   "outputs": [
    {
     "name": "stdout",
     "output_type": "stream",
     "text": [
      "\n",
      "Optimal cutoff is :  0.8399999999999996\n"
     ]
    }
   ],
   "source": [
    "#Q5 Predicting the cutoff by assuming cost of predicting job as no job 5 times more than no job as job\n",
    "cost_based_values = []\n",
    "cost_based_cutoff_indices = []\n",
    "for i in cutoff:\n",
    "    predicted_values = model_2.predict(test_X)\n",
    "    predicted_values = (predicted_values > i).astype(int)\n",
    "    confusion_matrix = metrics.confusion_matrix(test_Y, predicted_values)\n",
    "    cost = 5*confusion_matrix[0][1] + confusion_matrix[1][0]\n",
    "    cost_based_values.append(cost)\n",
    "    cost_based_cutoff_indices.append(i)\n",
    "    \n",
    "optimal_cutoff_cost = -1\n",
    "min_cost = 1e9\n",
    "\n",
    "for i in range(0, len(cost_based_cutoff_indices)):\n",
    "    if(cost_based_values[i] < min_cost) :\n",
    "        min_cost = cost_based_values[i]\n",
    "        optimal_cutoff_cost = cost_based_cutoff_indices[i]\n",
    "\n",
    "print(\"\\nOptimal cutoff is : \", optimal_cutoff_cost)"
   ]
  },
  {
   "cell_type": "code",
   "execution_count": 43,
   "id": "39a55c36",
   "metadata": {},
   "outputs": [
    {
     "data": {
      "image/png": "[encoded data removed]",
      "text/plain": [
       "<Figure size 640x480 with 2 Axes>"
      ]
     },
     "metadata": {},
     "output_type": "display_data"
    },
    {
     "name": "stdout",
     "output_type": "stream",
     "text": [
      "\n",
      "\n",
      "Precision of model is :  0.7096774193548387\n",
      "\n",
      "Recall of model is :  1.0\n"
     ]
    }
   ],
   "source": [
    "#Q6 Finding the precision and recall for cost based method\n",
    "predicted_values = model_2.predict(test_X)\n",
    "predicted_values = (predicted_values > optimal_cutoff_cost).astype(int)\n",
    "confusion_matrix = metrics.confusion_matrix(test_Y, predicted_values)\n",
    "sn.heatmap(confusion_matrix, annot=True, fmt='.2f', xticklabels=[\"Selected\", \"Not Selected\"], yticklabels=[\"Selected\", \"Not Selected\"])\n",
    "plt.ylabel('True Label')\n",
    "plt.xlabel('Predicted Label')\n",
    "plt.show()\n",
    "\n",
    "precision = confusion_matrix[0][0]/(confusion_matrix[0][0] + confusion_matrix[1][0])\n",
    "recall = confusion_matrix[0][0]/(confusion_matrix[0][0] + confusion_matrix[0][1])\n",
    "\n",
    "print(\"\\n\\nPrecision of model is : \", precision)\n",
    "print(\"\\nRecall of model is : \", recall)"
   ]
  },
  {
   "cell_type": "code",
   "execution_count": null,
   "id": "d0d49441",
   "metadata": {},
   "outputs": [],
   "source": []
  },
  {
   "cell_type": "code",
   "execution_count": null,
   "id": "e98a6928",
   "metadata": {},
   "outputs": [],
   "source": []
  },
  {
   "cell_type": "code",
   "execution_count": null,
   "id": "af6d5fcb",
   "metadata": {},
   "outputs": [],
   "source": []
  }
 ],
 "metadata": {
  "kernelspec": {
   "display_name": "Python 3 (ipykernel)",
   "language": "python",
   "name": "python3"
  },
  "language_info": {
   "codemirror_mode": {
    "name": "ipython",
    "version": 3
   },
   "file_extension": ".py",
   "mimetype": "text/x-python",
   "name": "python",
   "nbconvert_exporter": "python",
   "pygments_lexer": "ipython3",
   "version": "3.11.3"
  }
 },
 "nbformat": 4,
 "nbformat_minor": 5
}
